{
 "cells": [
  {
   "cell_type": "markdown",
   "metadata": {},
   "source": [
    "# Write a program to calculate the profit and loss of a shopkeeper on any of his product. Also calculate profit% and loss% respectively."
   ]
  },
  {
   "cell_type": "code",
   "execution_count": 3,
   "metadata": {},
   "outputs": [
    {
     "name": "stdout",
     "output_type": "stream",
     "text": [
      "Neither Profit nor Loss\n"
     ]
    }
   ],
   "source": [
    "Cost_Price = float(input(\"Enter the Cost Price: \"))\n",
    "Selling_Price = float(input(\"Enter the Selling Price: \"))\n",
    "\n",
    "if Selling_Price > Cost_Price:\n",
    "    profit = Selling_Price - Cost_Price\n",
    "    profit_percent = (profit/Cost_Price)*100\n",
    "    print(\"Profit: \", profit)\n",
    "    print(\"Profit Percentage: \", profit_percent, \"%\")\n",
    "\n",
    "elif Cost_Price > Selling_Price:\n",
    "    loss = Cost_Price - Selling_Price\n",
    "    loss_percent = (loss/Cost_Price)*100\n",
    "    print(\"Loss: \", loss)\n",
    "    print(\"Loss Percentage: \", loss_percent, \"%\")\n",
    "\n",
    "else:\n",
    "    print(\"Neither Profit nor Loss\")"
   ]
  },
  {
   "cell_type": "markdown",
   "metadata": {},
   "source": [
    "# Write a program to find whether a given year is a leap year or not."
   ]
  },
  {
   "cell_type": "code",
   "execution_count": 10,
   "metadata": {},
   "outputs": [
    {
     "name": "stdout",
     "output_type": "stream",
     "text": [
      "Not a Leap Year\n"
     ]
    }
   ],
   "source": [
    "year = int(input(\"Enter a year: \"))\n",
    "if year % 400 == 0:\n",
    "    print(\"Leap Year\")\n",
    "elif year % 100 == 0:\n",
    "    print(\"Not a Leap Year\")\n",
    "elif year % 4 == 0:\n",
    "    print(\"Leap Year\")\n",
    "else:\n",
    "    print(\"Not a Leap Year\")"
   ]
  },
  {
   "cell_type": "markdown",
   "metadata": {},
   "source": [
    "# Write a C program to read temperature in centigrade and display a suitable message according to the temperature state below:\n",
    "* Temp < 0 then Freezing weather\n",
    "* Temp 0-10 then Very Cold weather\n",
    "* Temp 10-20 then Cold weather\n",
    "* Temp 20-30 then Normal in Temp\n",
    "* Temp 30-40 then Its Hot\n",
    "* Temp >=40 then Its Very Hot"
   ]
  },
  {
   "cell_type": "code",
   "execution_count": 13,
   "metadata": {},
   "outputs": [
    {
     "name": "stdout",
     "output_type": "stream",
     "text": [
      "Normal in Temp\n"
     ]
    }
   ],
   "source": [
    "temperature = float(input(\"Enter the temperature in Centigrade: \"))\n",
    "\n",
    "if temperature < 0:\n",
    "    print(\"Freezing weather\")\n",
    "elif temperature >= 0 and temperature < 10:\n",
    "    print(\"Very cold weather\")\n",
    "elif temperature >= 10 and temperature < 20:\n",
    "    print(\"Cold weather\")\n",
    "elif temperature >= 20 and temperature < 30:\n",
    "    print(\"Normal in Temp\")\n",
    "elif temperature >= 30 and temperature < 40:\n",
    "    print(\"Its Hot\")\n",
    "else:\n",
    "    print(\"It's very Hot\")"
   ]
  },
  {
   "cell_type": "code",
   "execution_count": null,
   "metadata": {},
   "outputs": [],
   "source": []
  }
 ],
 "metadata": {
  "kernelspec": {
   "display_name": "base",
   "language": "python",
   "name": "python3"
  },
  "language_info": {
   "codemirror_mode": {
    "name": "ipython",
    "version": 3
   },
   "file_extension": ".py",
   "mimetype": "text/x-python",
   "name": "python",
   "nbconvert_exporter": "python",
   "pygments_lexer": "ipython3",
   "version": "3.10.9"
  },
  "orig_nbformat": 4
 },
 "nbformat": 4,
 "nbformat_minor": 2
}
