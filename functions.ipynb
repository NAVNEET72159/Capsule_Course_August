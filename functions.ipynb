{
 "cells": [
  {
   "cell_type": "code",
   "execution_count": 1,
   "metadata": {},
   "outputs": [],
   "source": [
    "def sum():\n",
    "    a = 10 \n",
    "    b = 20\n",
    "    c = a + b\n",
    "    print(c)"
   ]
  },
  {
   "cell_type": "code",
   "execution_count": 2,
   "metadata": {},
   "outputs": [
    {
     "name": "stdout",
     "output_type": "stream",
     "text": [
      "30\n"
     ]
    }
   ],
   "source": [
    "sum()"
   ]
  },
  {
   "cell_type": "markdown",
   "metadata": {},
   "source": [
    "# Write a program to check that weather the number is even or odd and find the factorial of that number "
   ]
  },
  {
   "cell_type": "code",
   "execution_count": 3,
   "metadata": {},
   "outputs": [],
   "source": [
    "def check(start, num):\n",
    "    for i in range(start, num, 3):\n",
    "            print(i, \"EVEN\")"
   ]
  },
  {
   "cell_type": "code",
   "execution_count": 4,
   "metadata": {},
   "outputs": [],
   "source": [
    "def fact(start):\n",
    "    product = 1\n",
    "    for i in range(start):\n",
    "        product *= i    #product = product*i\n",
    "    return product"
   ]
  },
  {
   "cell_type": "code",
   "execution_count": 5,
   "metadata": {},
   "outputs": [
    {
     "name": "stdout",
     "output_type": "stream",
     "text": [
      "12 EVEN\n",
      "15 EVEN\n",
      "18 EVEN\n",
      "21 EVEN\n",
      "24 EVEN\n",
      "27 EVEN\n",
      "30 EVEN\n",
      "33 EVEN\n",
      "36 EVEN\n",
      "39 EVEN\n",
      "42 EVEN\n",
      "45 EVEN\n",
      "48 EVEN\n",
      "51 EVEN\n",
      "54 EVEN\n",
      "None\n"
     ]
    }
   ],
   "source": [
    "start = int(input(\"Enter a number: \"))\n",
    "num = int(input(\"Enter a number: \"))\n",
    "print(check(start, num))"
   ]
  },
  {
   "cell_type": "code",
   "execution_count": 6,
   "metadata": {},
   "outputs": [],
   "source": [
    "def sum():\n",
    "    pass"
   ]
  },
  {
   "cell_type": "code",
   "execution_count": null,
   "metadata": {},
   "outputs": [],
   "source": [
    "n = int(input(\"Enter a range: \"))\n",
    "sum = 0\n",
    "for i in range(1,n+1):\n",
    "    if i == 1 or i == 2:\n",
    "        sum += i\n",
    "    else:\n",
    "        for j in range(2, i):\n"
   ]
  }
 ],
 "metadata": {
  "kernelspec": {
   "display_name": "base",
   "language": "python",
   "name": "python3"
  },
  "language_info": {
   "codemirror_mode": {
    "name": "ipython",
    "version": 3
   },
   "file_extension": ".py",
   "mimetype": "text/x-python",
   "name": "python",
   "nbconvert_exporter": "python",
   "pygments_lexer": "ipython3",
   "version": "3.10.9"
  },
  "orig_nbformat": 4
 },
 "nbformat": 4,
 "nbformat_minor": 2
}
