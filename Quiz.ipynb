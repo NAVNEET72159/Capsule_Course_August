{
 "cells": [
  {
   "cell_type": "markdown",
   "metadata": {},
   "source": [
    "### Write algorithm:\n",
    "* To check whether the number is Palendrome Number or not.\n",
    "* To check whether the number is Armstrong Number or not.\n",
    "* To check whether the number is Prime Number or not."
   ]
  },
  {
   "cell_type": "code",
   "execution_count": null,
   "metadata": {},
   "outputs": [],
   "source": []
  },
  {
   "cell_type": "markdown",
   "metadata": {},
   "source": [
    "### Write a program for the following: \n",
    "1. 1! + 2! + 3! + 4! + .... + n! = m\n",
    "2. Finocii series\n",
    "3. 1 + 22 + 333 + 4444 + 55555 + .... + nnnnn...n"
   ]
  },
  {
   "cell_type": "code",
   "execution_count": null,
   "metadata": {},
   "outputs": [],
   "source": []
  },
  {
   "cell_type": "markdown",
   "metadata": {},
   "source": [
    "### Write a program to print this pattern:\n",
    "\n",
    "* A\n",
    "* AB\n",
    "* ABC\n",
    "* ACBD\n",
    "* ACBDE"
   ]
  },
  {
   "cell_type": "code",
   "execution_count": null,
   "metadata": {},
   "outputs": [],
   "source": []
  },
  {
   "cell_type": "markdown",
   "metadata": {},
   "source": [
    "### Multiple Choice Questions:\n",
    "\n",
    "1. Which of the following is true about local variables?\n",
    "    * Accessible throughout the program\n",
    "    * Accessible in all functions\n",
    "    * Accessible only in that function\n",
    "    * Accessible only in the similar functions\n",
    "\n",
    "2. How many types of comparison operators are there in Python?\n",
    "    * 5\n",
    "    * 4\n",
    "    * 6\n",
    "    * 7\n",
    "\n",
    "3. Is String is iterable?\n",
    "    * Yes\n",
    "    * No\n",
    "\n",
    "4. Find the output of the following code?\n",
    "\n",
    "    print(5%2==2, end = ” “)\n",
    "\n",
    "    print(5.5%2==1)\n",
    "\n",
    "    * True True\n",
    "    * False False\n",
    "    * False True\n",
    "    * True False\n",
    "\n",
    "5. for i in range(10):\n",
    "        print(i, end= \" \")\n",
    "    else: \n",
    "         print(\"Error\")\n",
    "\n",
    "    * 1 2 3 4 5 6 7 8 9 Error\n",
    "    * Error\n",
    "    * Syntax Error\n",
    "    * 0 1 2 3 4 5 6 7 8 9 Error\n",
    "\n",
    "6. What is the output of the following code?\n",
    "\n",
    "    n=5\n",
    "    while(n):\n",
    "        n=n-1\n",
    "        print(n,end=’ ‘)\n",
    "\n",
    "    * 5 4 3 2 1\n",
    "    * 4 3 2 1\n",
    "    * 5 4 3 2 1 0\n",
    "    * 4 3 2 1 0"
   ]
  }
 ],
 "metadata": {
  "language_info": {
   "name": "python"
  },
  "orig_nbformat": 4
 },
 "nbformat": 4,
 "nbformat_minor": 2
}
