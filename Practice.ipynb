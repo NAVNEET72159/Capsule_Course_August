{
 "cells": [
  {
   "cell_type": "markdown",
   "metadata": {},
   "source": [
    "# IF-ELSE QUESTIONS"
   ]
  },
  {
   "cell_type": "markdown",
   "metadata": {},
   "source": [
    "##### Write a program to check wether the number is a positive or a negative integer."
   ]
  },
  {
   "cell_type": "code",
   "execution_count": 3,
   "metadata": {},
   "outputs": [
    {
     "name": "stdout",
     "output_type": "stream",
     "text": [
      "Is zero\n"
     ]
    }
   ],
   "source": [
    "num = int(input(\"Enter a number: \"))\n",
    "if num < 0:\n",
    "    print(\"Is a negative number\")\n",
    "elif num > 0:\n",
    "    print(\"Is a positive number\")\n",
    "else:\n",
    "    print(\"Is zero\")"
   ]
  },
  {
   "cell_type": "markdown",
   "metadata": {},
   "source": [
    "##### Write a number to calculate the root of quadratic equation."
   ]
  },
  {
   "cell_type": "code",
   "execution_count": 6,
   "metadata": {},
   "outputs": [
    {
     "name": "stdout",
     "output_type": "stream",
     "text": [
      "Roots are real and different\n",
      "Roots are:  -2.0 -3.0\n"
     ]
    }
   ],
   "source": [
    "a = int(input(\"Enter the value of a: \"))\n",
    "b = int(input(\"Enter the value of b: \"))\n",
    "c = int(input(\"Enter the value of c: \"))\n",
    "\n",
    "d = (b**2) - (4*a*c)\n",
    "\n",
    "if d == 0:\n",
    "    print(\"Roots are real and equal\")\n",
    "    x = (-b)/(2*a)\n",
    "    print(\"Roots are: \", x, x)\n",
    "elif d > 0:\n",
    "    print(\"Roots are real and different\")\n",
    "    x1 = (-b + (d**0.5))/(2*a)\n",
    "    x2 = (-b - (d**0.5))/(2*a)\n",
    "    print(\"Roots are: \", x1, x2)\n",
    "else:\n",
    "    print(\"Roots are imaginary\")"
   ]
  },
  {
   "cell_type": "markdown",
   "metadata": {},
   "source": [
    "# Write a program to determine the eligibility for admission to a professional course based on the following criteria:\n",
    "* Marks in Maths >= 65\n",
    "* Marks in Physics >= 55\n",
    "* Marks in Chemistry >= 50\n",
    "* Total marks >= 190\n",
    "* Total marks in maths and physics >= 140"
   ]
  },
  {
   "cell_type": "code",
   "execution_count": 9,
   "metadata": {},
   "outputs": [
    {
     "name": "stdout",
     "output_type": "stream",
     "text": [
      "You are eligible for admission\n"
     ]
    }
   ],
   "source": [
    "maths = float(input(\"Enter the marks of Maths: \"))\n",
    "physics = float(input(\"Enter the marks of Physics: \"))\n",
    "chemistry = float(input(\"Enter the marks of Chemistry: \"))\n",
    "\n",
    "if maths >= 65 and physics >= 55 and chemistry >= 50:\n",
    "    if (maths + physics) >= 140 and (maths + physics + chemistry) >= 190:\n",
    "        print(\"You are eligible for admission\")\n",
    "    else:\n",
    "        print(\"You are not eligible for admission\")\n",
    "else:\n",
    "    print(\"You are not eligible for admission\")"
   ]
  },
  {
   "cell_type": "markdown",
   "metadata": {},
   "source": [
    "# Write a program to calculate the seires:\n",
    "1! + 2! + 3! + 4! + .... + n! = m"
   ]
  },
  {
   "cell_type": "code",
   "execution_count": 12,
   "metadata": {},
   "outputs": [
    {
     "name": "stdout",
     "output_type": "stream",
     "text": [
      "Sum of series is:  153\n"
     ]
    }
   ],
   "source": [
    "num = int(input(\"Enter a number: \"))\n",
    "sum = 0\n",
    "for i in range(1, num+1):\n",
    "    factorial = 1\n",
    "    for j in range(1, i+1):\n",
    "        factorial = factorial * j\n",
    "    sum = sum + factorial\n",
    "\n",
    "print(\"Sum of series is: \", sum)"
   ]
  },
  {
   "cell_type": "markdown",
   "metadata": {},
   "source": [
    "# Write a program to print fibonacii series.\n",
    "* 0, 1, 1, 2, 3, 5, 8, ..... n."
   ]
  },
  {
   "cell_type": "code",
   "execution_count": 2,
   "metadata": {},
   "outputs": [
    {
     "name": "stdout",
     "output_type": "stream",
     "text": [
      "0 1, 1, 2, 3, 5, 8, 13, 21, 34, 55, 89, 144, "
     ]
    }
   ],
   "source": [
    "a = 0 \n",
    "b = 1\n",
    "sum = 0\n",
    "num = int(input(\"Enter range of fibonacii series: \"))\n",
    "print(a, b, end=\", \")\n",
    "for i in range(num+1):\n",
    "    sum = a + b\n",
    "    a = b \n",
    "    b = sum\n",
    "    print(sum, end=\", \")"
   ]
  },
  {
   "cell_type": "markdown",
   "metadata": {},
   "source": [
    "# Write a program to print this series:\n",
    "1/2 + 2/3 + 3/4 + 4/5 + 5/6 + .... + n/n+1"
   ]
  },
  {
   "cell_type": "code",
   "execution_count": 8,
   "metadata": {},
   "outputs": [
    {
     "name": "stdout",
     "output_type": "stream",
     "text": [
      "1/2 + 2/3 + 3/4 + 4/5 + 5/6 + 6/7 + 7/8 + 8/9 + 9/10 + 10/11 "
     ]
    }
   ],
   "source": [
    "num = int(input(\"Enter rang of series: \"))\n",
    "for i in range(1, num+1):\n",
    "    if i == num:\n",
    "        print(i,i+1, end = \" \", sep=\"/\")\n",
    "    else:\n",
    "        print(i,i+1, end = \" + \", sep=\"/\")"
   ]
  },
  {
   "cell_type": "markdown",
   "metadata": {},
   "source": [
    "# Write a program to print this pattern:\n",
    "a\n",
    "a b\n",
    "a b c\n",
    "a b c d\n",
    "a b c d e"
   ]
  },
  {
   "cell_type": "code",
   "execution_count": 14,
   "metadata": {},
   "outputs": [
    {
     "name": "stdout",
     "output_type": "stream",
     "text": [
      "\n",
      "a \n",
      "a b \n",
      "a b c \n",
      "a b c d \n",
      "a b c d e \n",
      "a b c d e f \n"
     ]
    }
   ],
   "source": [
    "num = int(input(\"Enter range of series: \"))\n",
    "\n",
    "for i in range(num+1):\n",
    "    value = 97\n",
    "    for j in range(i):\n",
    "        print(chr(value), end=\" \")\n",
    "        value = value + 1\n",
    "    print()\n"
   ]
  },
  {
   "cell_type": "markdown",
   "metadata": {},
   "source": [
    "# Write a program to print this pattern:\n",
    "a \n",
    "b c\n",
    "d e f\n",
    "g h i j\n",
    "k l m n o\n",
    "p q r s t u\n",
    "v w x y z a b"
   ]
  },
  {
   "cell_type": "code",
   "execution_count": 16,
   "metadata": {},
   "outputs": [
    {
     "name": "stdout",
     "output_type": "stream",
     "text": [
      "\n",
      "a \n",
      "b c \n",
      "d e f \n",
      "g h i j \n",
      "k l m n o \n",
      "p q r s t u \n",
      "v w x y z a b \n",
      "c d e f g h i j \n",
      "k l m n o p q r s \n",
      "t u v w x y z a b c \n",
      "d e f g h i j k l m n \n",
      "o p q r s t u v w x y z \n"
     ]
    }
   ],
   "source": [
    "num = int(input(\"Enter range of series: \"))\n",
    "value = 97\n",
    "for i in range(num+1):\n",
    "    for j in range(i):\n",
    "        if value > 122:\n",
    "            value = 97\n",
    "        print(chr(value), end=\" \")\n",
    "        value = value + 1\n",
    "    print()"
   ]
  },
  {
   "cell_type": "code",
   "execution_count": null,
   "metadata": {},
   "outputs": [],
   "source": []
  }
 ],
 "metadata": {
  "kernelspec": {
   "display_name": "base",
   "language": "python",
   "name": "python3"
  },
  "language_info": {
   "codemirror_mode": {
    "name": "ipython",
    "version": 3
   },
   "file_extension": ".py",
   "mimetype": "text/x-python",
   "name": "python",
   "nbconvert_exporter": "python",
   "pygments_lexer": "ipython3",
   "version": "3.10.9"
  },
  "orig_nbformat": 4
 },
 "nbformat": 4,
 "nbformat_minor": 2
}
