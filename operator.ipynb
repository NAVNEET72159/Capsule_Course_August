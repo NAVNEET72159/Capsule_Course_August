{
 "cells": [
  {
   "cell_type": "markdown",
   "metadata": {},
   "source": [
    "# Operators\n",
    "* Arithematic Operator:\n",
    "    * Addition = +\n",
    "    * Substraction = - \n",
    "    * Multiplication = *\n",
    "    * Division \n",
    "        * Normal Division = /\n",
    "        * Floor Division = //\n",
    "        * Modulus = %\n",
    "    * Exponential = **"
   ]
  },
  {
   "cell_type": "markdown",
   "metadata": {},
   "source": [
    "# Write a program to calculate the sum of two Numbers"
   ]
  },
  {
   "cell_type": "code",
   "execution_count": null,
   "metadata": {},
   "outputs": [],
   "source": [
    "a = int(input(\"Enter any number: \"))\n",
    "b = int(input(\"Enter any number: \"))\n",
    "c = a + b\n",
    "print(str(c))"
   ]
  },
  {
   "cell_type": "markdown",
   "metadata": {},
   "source": [
    "# Write a program to calculate the area of Cuboid"
   ]
  },
  {
   "cell_type": "code",
   "execution_count": 1,
   "metadata": {},
   "outputs": [
    {
     "name": "stdout",
     "output_type": "stream",
     "text": [
      "Volume of the cuboid is:  60\n"
     ]
    }
   ],
   "source": [
    "length = int(input(\"Enter the length: \"))\n",
    "breadth = int(input(\"Enter the breadth: \"))\n",
    "height = int(input(\"Enter the height: \"))\n",
    "\n",
    "volume = length * breadth * height\n",
    "print(\"Volume of the cuboid is: \", volume)"
   ]
  },
  {
   "cell_type": "markdown",
   "metadata": {},
   "source": [
    "# Write a simple basic calculator program in python:\n",
    "    Direction:\n",
    "    Your program should be dynamic where it shoud accept two numbers from a user and do all the following calculation:\n",
    "    * Addition\n",
    "    * Substraction\n",
    "    * Multiplication\n",
    "    * Division\n",
    "    * Modulus\n",
    "    * Exponents\n",
    "    * Floor Division"
   ]
  },
  {
   "cell_type": "code",
   "execution_count": null,
   "metadata": {},
   "outputs": [],
   "source": []
  },
  {
   "cell_type": "markdown",
   "metadata": {},
   "source": [
    "# Write a prgram to calculate the total marks and percentage of a 10 Subjects of a student in the class."
   ]
  },
  {
   "cell_type": "markdown",
   "metadata": {},
   "source": []
  }
 ],
 "metadata": {
  "kernelspec": {
   "display_name": "base",
   "language": "python",
   "name": "python3"
  },
  "language_info": {
   "codemirror_mode": {
    "name": "ipython",
    "version": 3
   },
   "file_extension": ".py",
   "mimetype": "text/x-python",
   "name": "python",
   "nbconvert_exporter": "python",
   "pygments_lexer": "ipython3",
   "version": "3.10.9"
  },
  "orig_nbformat": 4
 },
 "nbformat": 4,
 "nbformat_minor": 2
}
