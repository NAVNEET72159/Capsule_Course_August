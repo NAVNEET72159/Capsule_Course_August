{
 "cells": [
  {
   "cell_type": "markdown",
   "metadata": {},
   "source": [
    "# Operators\n",
    "* Arithematic Operator:\n",
    "    * Addition = +\n",
    "    * Substraction = - \n",
    "    * Multiplication = *\n",
    "    * Division \n",
    "        * Normal Division = /\n",
    "        * Floor Division = //\n",
    "        * Modulus = %\n",
    "    * Exponential = **"
   ]
  },
  {
   "cell_type": "markdown",
   "metadata": {},
   "source": [
    "# Write a program to calculate the sum of two Numbers"
   ]
  },
  {
   "cell_type": "code",
   "execution_count": null,
   "metadata": {},
   "outputs": [],
   "source": [
    "a = int(input(\"Enter any number: \"))\n",
    "b = int(input(\"Enter any number: \"))\n",
    "c = a + b\n",
    "print(str(c))"
   ]
  },
  {
   "cell_type": "markdown",
   "metadata": {},
   "source": [
    "# Write a program to calculate the area of Cuboid"
   ]
  },
  {
   "cell_type": "code",
   "execution_count": 1,
   "metadata": {},
   "outputs": [
    {
     "name": "stdout",
     "output_type": "stream",
     "text": [
      "Volume of the cuboid is:  60\n"
     ]
    }
   ],
   "source": [
    "length = int(input(\"Enter the length: \"))\n",
    "breadth = int(input(\"Enter the breadth: \"))\n",
    "height = int(input(\"Enter the height: \"))\n",
    "\n",
    "volume = length * breadth * height\n",
    "print(\"Volume of the cuboid is: \", volume)"
   ]
  },
  {
   "cell_type": "markdown",
   "metadata": {},
   "source": [
    "# Write a simple basic calculator program in python:\n",
    "    Direction:\n",
    "    Your program should be dynamic where it shoud accept two numbers from a user and do all the following calculation:\n",
    "    * Addition\n",
    "    * Substraction\n",
    "    * Multiplication\n",
    "    * Division\n",
    "    * Modulus\n",
    "    * Exponents\n",
    "    * Floor Division"
   ]
  },
  {
   "cell_type": "code",
   "execution_count": null,
   "metadata": {},
   "outputs": [],
   "source": []
  },
  {
   "cell_type": "markdown",
   "metadata": {},
   "source": [
    "# Write a prgram to calculate the total marks and percentage of a 3 Subjects of a student in the class."
   ]
  },
  {
   "cell_type": "code",
   "execution_count": 4,
   "metadata": {},
   "outputs": [
    {
     "ename": "ValueError",
     "evalue": "invalid literal for int() with base 10: ''",
     "output_type": "error",
     "traceback": [
      "\u001b[1;31m---------------------------------------------------------------------------\u001b[0m",
      "\u001b[1;31mValueError\u001b[0m                                Traceback (most recent call last)",
      "Cell \u001b[1;32mIn[4], line 1\u001b[0m\n\u001b[1;32m----> 1\u001b[0m physics_Marks \u001b[39m=\u001b[39m \u001b[39mint\u001b[39;49m(\u001b[39minput\u001b[39;49m(\u001b[39m\"\u001b[39;49m\u001b[39mEnter your physics marks: \u001b[39;49m\u001b[39m\"\u001b[39;49m))\n\u001b[0;32m      2\u001b[0m chemistry_Marks \u001b[39m=\u001b[39m \u001b[39mint\u001b[39m(\u001b[39minput\u001b[39m(\u001b[39m\"\u001b[39m\u001b[39mEnter your chemistry marks: \u001b[39m\u001b[39m\"\u001b[39m))\n\u001b[0;32m      3\u001b[0m maths_Marks \u001b[39m==\u001b[39m \u001b[39mint\u001b[39m(\u001b[39mint\u001b[39m(\u001b[39m\"\u001b[39m\u001b[39mEnter your maths marks: \u001b[39m\u001b[39m\"\u001b[39m))\n",
      "\u001b[1;31mValueError\u001b[0m: invalid literal for int() with base 10: ''"
     ]
    }
   ],
   "source": [
    "physics_Marks = int(input(\"Enter your physics marks: \"))\n",
    "chemistry_Marks = int(input(\"Enter your chemistry marks: \"))\n",
    "maths_Marks = int(input(\"Enter your maths marks: \"))\n",
    "obtain_Marks = physics_Marks + chemistry_Marks + maths_Marks\n",
    "percentage = (obtain_Marks/300)*100\n",
    "\n",
    "print(\"Your percentage is: \", percentage)\n",
    "\n",
    "# percentage = ((physics_Marks + chemistry_Marks + maths_Marks)/300)*100\n",
    "# percentage = ((physics_Marks + chemistry_Marks + maths_Marks)/3)"
   ]
  },
  {
   "cell_type": "markdown",
   "metadata": {},
   "source": [
    "# Write a program to calculate the profit, profit percentage of a shopkeeper"
   ]
  },
  {
   "cell_type": "code",
   "execution_count": 5,
   "metadata": {},
   "outputs": [
    {
     "name": "stdout",
     "output_type": "stream",
     "text": [
      "Profit of the shopkeeper is 500.0000000000001 and profit percentage is 49.96752111127768 %\n"
     ]
    }
   ],
   "source": [
    "Cost_Price = float(input(\"Enter the cost price of the product: \"))\n",
    "Selling_Price = float(input(\"Enter the selling price of the product: \"))\n",
    "\n",
    "profit = Selling_Price - Cost_Price\n",
    "profit_percent = (profit/Cost_Price)*100\n",
    "\n",
    "print(\"Profit of the shopkeeper is\", profit, \"and profit percentage is\", profit_percent, \"%\")"
   ]
  },
  {
   "cell_type": "markdown",
   "metadata": {},
   "source": [
    "# Write a program volume of cube, cuboide\n",
    "* Volume of cube = a^3\n",
    "* Volume of cuboid = l*b*h"
   ]
  },
  {
   "cell_type": "code",
   "execution_count": 8,
   "metadata": {},
   "outputs": [
    {
     "name": "stdout",
     "output_type": "stream",
     "text": [
      "1728.0\n",
      "3360.0\n"
     ]
    }
   ],
   "source": [
    "lenght = float(input(\"Enter the lenght of the shape: \"))\n",
    "width = float(input(\"Enter the width of the shape: \"))\n",
    "height = float(input(\"Enter the height of the shape: \"))\n",
    "\n",
    "Cube_volume = lenght * lenght * lenght #length**3\n",
    "Cuboid_volume = lenght * width * height\n",
    "\n",
    "print(Cube_volume)\n",
    "print(Cuboid_volume)"
   ]
  },
  {
   "cell_type": "code",
   "execution_count": null,
   "metadata": {},
   "outputs": [],
   "source": []
  }
 ],
 "metadata": {
  "kernelspec": {
   "display_name": "base",
   "language": "python",
   "name": "python3"
  },
  "language_info": {
   "codemirror_mode": {
    "name": "ipython",
    "version": 3
   },
   "file_extension": ".py",
   "mimetype": "text/x-python",
   "name": "python",
   "nbconvert_exporter": "python",
   "pygments_lexer": "ipython3",
   "version": "3.10.9"
  },
  "orig_nbformat": 4
 },
 "nbformat": 4,
 "nbformat_minor": 2
}
