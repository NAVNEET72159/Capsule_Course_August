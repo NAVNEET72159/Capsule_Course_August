{
 "cells": [
  {
   "cell_type": "markdown",
   "metadata": {},
   "source": [
    "# Variable Declaration\n",
    "* Declare the type of variable\n",
    "* In python we don't need this step\n",
    "# Variable Initialization\n",
    "* Assigning the initial value of the variable"
   ]
  },
  {
   "cell_type": "markdown",
   "metadata": {},
   "source": [
    "# Data Type \n",
    "* Numeric \n",
    "    * integer = int\n",
    "    * float = float\n",
    "    * Complex = vector form\n",
    "* Non-Numeric\n",
    "    * String\n",
    "    * Boolean\n",
    "* Empty\n",
    "    * None"
   ]
  },
  {
   "cell_type": "code",
   "execution_count": 9,
   "metadata": {},
   "outputs": [
    {
     "name": "stdout",
     "output_type": "stream",
     "text": [
      "10   10.0  Hello   True   None\n"
     ]
    }
   ],
   "source": [
    "a = 10\n",
    "b = float(a)\n",
    "c = \"Hello\"\n",
    "d = True\n",
    "e = None\n",
    "print(a, \" \", b, \"\", c, \" \", d, \" \", e)"
   ]
  },
  {
   "cell_type": "markdown",
   "metadata": {},
   "source": [
    "# Write a program to print users First Name, Last Name, Age, Weight and height."
   ]
  },
  {
   "cell_type": "code",
   "execution_count": 2,
   "metadata": {},
   "outputs": [
    {
     "name": "stdout",
     "output_type": "stream",
     "text": [
      "John\n",
      "Doe\n",
      "35.0\n",
      "75\n",
      "5.12\n"
     ]
    }
   ],
   "source": [
    "FirstName = \"John\"\n",
    "LastName = \"Doe\"\n",
    "Age = 35\n",
    "Weight = 75.83\n",
    "Height = 5.12\n",
    "\n",
    "print(FirstName)\n",
    "print(LastName)\n",
    "print(float(Age))\n",
    "print(int(Weight))\n",
    "print(Height)"
   ]
  },
  {
   "cell_type": "markdown",
   "metadata": {},
   "source": [
    "# Type Conversion\n",
    "* Implicit Type Conversion/Type Conversion\n",
    "* Explicit Type Conversion/Type Casting"
   ]
  },
  {
   "cell_type": "code",
   "execution_count": 5,
   "metadata": {},
   "outputs": [
    {
     "data": {
      "text/plain": [
       "3"
      ]
     },
     "execution_count": 5,
     "metadata": {},
     "output_type": "execute_result"
    }
   ],
   "source": [
    "a = 10\n",
    "b = 3\n",
    "c = 0\n",
    "\n",
    "c = int(a/b)\n",
    "c"
   ]
  },
  {
   "cell_type": "markdown",
   "metadata": {},
   "source": [
    "# Write an algorithm and make a flowchart to calculate the percentage of a student in class.\n"
   ]
  },
  {
   "cell_type": "markdown",
   "metadata": {},
   "source": [
    "* Read the marks of First Subject\n",
    "* Read the marks of Second Subject \n",
    "* Read the marks of Third Subject\n",
    "\n",
    "* Add the marks of all subjects.\n",
    "* Divide the total attained marks with total marks and multiply iy with 100\n",
    "* Display the percentage"
   ]
  },
  {
   "cell_type": "code",
   "execution_count": 10,
   "metadata": {},
   "outputs": [
    {
     "name": "stdout",
     "output_type": "stream",
     "text": [
      "5\n"
     ]
    }
   ],
   "source": []
  },
  {
   "cell_type": "markdown",
   "metadata": {},
   "source": []
  },
  {
   "cell_type": "code",
   "execution_count": null,
   "metadata": {},
   "outputs": [],
   "source": []
  },
  {
   "cell_type": "markdown",
   "metadata": {},
   "source": []
  },
  {
   "cell_type": "code",
   "execution_count": null,
   "metadata": {},
   "outputs": [],
   "source": []
  }
 ],
 "metadata": {
  "kernelspec": {
   "display_name": "base",
   "language": "python",
   "name": "python3"
  },
  "language_info": {
   "codemirror_mode": {
    "name": "ipython",
    "version": 3
   },
   "file_extension": ".py",
   "mimetype": "text/x-python",
   "name": "python",
   "nbconvert_exporter": "python",
   "pygments_lexer": "ipython3",
   "version": "3.10.9"
  },
  "orig_nbformat": 4
 },
 "nbformat": 4,
 "nbformat_minor": 2
}
