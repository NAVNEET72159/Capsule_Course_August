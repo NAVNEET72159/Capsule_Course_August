{
 "cells": [
  {
   "cell_type": "markdown",
   "metadata": {},
   "source": [
    "# Variable Declaration\n",
    "* Declare the type of variable\n",
    "* In python we don't need this step\n",
    "# Variable Initialization\n",
    "* Assigning the initial value of the variable"
   ]
  },
  {
   "cell_type": "markdown",
   "metadata": {},
   "source": [
    "# Data Type \n",
    "* Numeric \n",
    "    * integer = int\n",
    "    * float = float\n",
    "    * Complex = vector form\n",
    "* Non-Numeric\n",
    "    * String\n",
    "        * Single - Line String \n",
    "            * ''\n",
    "            * \" \"\n",
    "        * Multi Line String\n",
    "            * ''' '''\n",
    "    * Boolean\n",
    "        * true\n",
    "        * false\n",
    "* Empty\n",
    "    * None"
   ]
  },
  {
   "cell_type": "code",
   "execution_count": 4,
   "metadata": {},
   "outputs": [
    {
     "name": "stdout",
     "output_type": "stream",
     "text": [
      "20   10  Hello   True   None\n"
     ]
    }
   ],
   "source": [
    "a = 20\n",
    "b = 10\n",
    "c = \"Hello\"\n",
    "d = True\n",
    "e = None\n",
    "print(a, \" \", b, \"\", c, \" \", d, \" \", e)"
   ]
  },
  {
   "cell_type": "markdown",
   "metadata": {},
   "source": [
    "# Write a program to print users First Name, Last Name, Age, Weight and height."
   ]
  },
  {
   "cell_type": "code",
   "execution_count": 2,
   "metadata": {},
   "outputs": [
    {
     "name": "stdout",
     "output_type": "stream",
     "text": [
      "John\n",
      "Doe\n",
      "35.0\n",
      "75\n",
      "5.12\n"
     ]
    }
   ],
   "source": [
    "FirstName = \"John\"\n",
    "LastName = \"Doe\"\n",
    "Age = 35\n",
    "Weight = 75.83\n",
    "Height = 5.12\n",
    "\n",
    "print(FirstName)\n",
    "print(LastName)\n",
    "print(float(Age))\n",
    "print(int(Weight))\n",
    "print(Height)"
   ]
  },
  {
   "cell_type": "markdown",
   "metadata": {},
   "source": [
    "# Type Conversion\n",
    "* Implicit Type Conversion/Type Conversion\n",
    "* Explicit Type Conversion/Type Casting"
   ]
  },
  {
   "cell_type": "code",
   "execution_count": 5,
   "metadata": {},
   "outputs": [
    {
     "data": {
      "text/plain": [
       "3"
      ]
     },
     "execution_count": 5,
     "metadata": {},
     "output_type": "execute_result"
    }
   ],
   "source": [
    "a = 10\n",
    "b = 3\n",
    "c = 0\n",
    "\n",
    "c = int(a/b)\n",
    "c"
   ]
  },
  {
   "cell_type": "markdown",
   "metadata": {},
   "source": [
    "# Write an algorithm and make a flowchart to calculate the percentage of a student in class.\n"
   ]
  },
  {
   "cell_type": "markdown",
   "metadata": {},
   "source": [
    "* Read the marks of First Subject\n",
    "* Read the marks of Second Subject \n",
    "* Read the marks of Third Subject\n",
    "\n",
    "* Add the marks of all subjects.\n",
    "* Divide the total attained marks with total marks and multiply iy with 100\n",
    "* Display the percentage"
   ]
  },
  {
   "cell_type": "markdown",
   "metadata": {},
   "source": [
    "# Variable = It can change.\n",
    "* Vari + able\n",
    "* It is used to store data and access it through this name\n",
    "\n",
    "# Identifiers "
   ]
  },
  {
   "cell_type": "code",
   "execution_count": 7,
   "metadata": {},
   "outputs": [],
   "source": [
    "a = 10\n",
    "b = 3\n",
    "c = bool(a/b)"
   ]
  },
  {
   "cell_type": "code",
   "execution_count": 12,
   "metadata": {},
   "outputs": [
    {
     "name": "stdout",
     "output_type": "stream",
     "text": [
      "You have lost 900 dollars\n"
     ]
    }
   ],
   "source": [
    "number_of_friends = int(input(\"How many friends do you have? \"))\n",
    "number_of_friends_denied = int(input(\"How many friends have denied to go for picnic? \"))\n",
    "cost_of_one_ticket = int(input(\"What is the cost of one ticket? \"))\n",
    "\n",
    "loss = number_of_friends_denied * cost_of_one_ticket\n",
    "\n",
    "print(\"You have lost\", loss, \"dollars\")"
   ]
  },
  {
   "cell_type": "code",
   "execution_count": null,
   "metadata": {},
   "outputs": [],
   "source": []
  }
 ],
 "metadata": {
  "kernelspec": {
   "display_name": "base",
   "language": "python",
   "name": "python3"
  },
  "language_info": {
   "codemirror_mode": {
    "name": "ipython",
    "version": 3
   },
   "file_extension": ".py",
   "mimetype": "text/x-python",
   "name": "python",
   "nbconvert_exporter": "python",
   "pygments_lexer": "ipython3",
   "version": "3.10.9"
  },
  "orig_nbformat": 4
 },
 "nbformat": 4,
 "nbformat_minor": 2
}
