{
 "cells": [
  {
   "cell_type": "markdown",
   "metadata": {},
   "source": [
    "# match-case\n",
    "* It is an alternative of ladder if-else\n",
    "* match and case keyword are used."
   ]
  },
  {
   "cell_type": "code",
   "execution_count": 4,
   "metadata": {},
   "outputs": [
    {
     "name": "stdout",
     "output_type": "stream",
     "text": [
      "Red Color T-Shirt\n"
     ]
    }
   ],
   "source": [
    "day = input(\"Enter Week days name: \")\n",
    "match day:\n",
    "    case \"Monday\" | \"monday\" | \"MONDAY\":\n",
    "        print(\"Red Color T-Shirt\")\n",
    "    case \"Tuesday\" | \"tuesday\" | \"TUESDAY\":\n",
    "        print(\"Saffron Color T-Shirt\")\n",
    "    case \"Wednesday\" | \"wednesday\" | \"WEDNESDAY\":\n",
    "        print(\"Dark Blue Color T-Shirt\")\n",
    "    case \"Thursday\" | \"thursday\" | \"THURSDAY\":\n",
    "        print(\"Navy Blue Color T-Shirt\")\n",
    "    case \"Friday\" | \"friday\" | \"FRIDAY\":\n",
    "        print(\"Red Color Full T-Shirt\")\n",
    "    case \"Saturday\" | \"saturday\" | \"SATURDAY\":\n",
    "        print(\"Yellow Color T-Shirt\")\n",
    "    case \"Sunday\" | \"sunday\" | \"SUNDAY\":\n",
    "        print(\"White Color T-Shirt\")\n",
    "    case _:\n",
    "        print(\"Invalid input\")\n"
   ]
  },
  {
   "cell_type": "code",
   "execution_count": 5,
   "metadata": {},
   "outputs": [
    {
     "name": "stdout",
     "output_type": "stream",
     "text": [
      "Red Color T-Shirt\n"
     ]
    }
   ],
   "source": [
    "day = input(\"Enter the day: \")\n",
    "if day == \"Monday\" or day == \"monday\" or day == \"MONDAY\":\n",
    "    print(\"Red Color T-Shirt\")\n",
    "elif day == \"Tuesday\" or day == \"tuesday\" or day == \"TUESDAY\":\n",
    "    print(\"Blue Color T-Shirt\")\n",
    "elif day == \"Wednesday\" or day == \"wednesday\" or day == \"WEDNESDAY\":\n",
    "    print(\"Yellow Color T-Shirt\")\n",
    "elif day == \"Thursday\" or day == \"thursday\" or day == \"THURSDAY\":\n",
    "    print(\"Green Color T-Shirt\")\n",
    "elif day == \"Friday\" or day == \"friday\" or day == \"FRIDAY\":\n",
    "    print(\"White Color T-Shirt\")\n",
    "elif day == \"Saturday\" or day == \"saturday\" or day == \"SATURDAY\":\n",
    "    print(\"Black Color T-Shirt\")\n",
    "elif day == \"Sunday\" or day == \"sunday\" or day == \"SUNDAY\":\n",
    "    print(\"Pink Color T-Shirt\")\n",
    "else:\n",
    "    print(\"Invalid Day\")"
   ]
  },
  {
   "cell_type": "markdown",
   "metadata": {},
   "source": [
    "# Write a program to calculate the electricity bill using match-case as under:\n",
    "* First 100 units -> No charges \n",
    "* Next 50 units -> 0.50 @units\n",
    "* Next 50 units -> 0.60 @units\n",
    "* Greater 200 units -> 1.00 @units"
   ]
  },
  {
   "cell_type": "code",
   "execution_count": 9,
   "metadata": {},
   "outputs": [
    {
     "name": "stdout",
     "output_type": "stream",
     "text": [
      "Wrong choice. Batti gul ho gai hai.\n"
     ]
    }
   ],
   "source": [
    "units = int(input(\"Enter the number of units: \"))\n",
    "ch = input(\"Enter the choice (Write L for Low enery Use, M for medium Energy Use, MH for medium high energy use, H for high energy use): \")\n",
    "bill = 0\n",
    "match ch:\n",
    "    case \"L\":\n",
    "        if units <= 100:\n",
    "            print(\"The cost is Rs.\", bill)\n",
    "        else: \n",
    "            print(\"Wrong choice. Batti gul ho gai hai.\")\n",
    "    \n",
    "    case \"M\":\n",
    "        if units <= 150:\n",
    "            bill = (units-100) * 0.50\n",
    "            print(\"The cost is Rs.\", bill)\n",
    "        else:\n",
    "            print(\"Wrong choice. Batti gul ho gai hai.\")\n",
    "    \n",
    "    case \"MH\":\n",
    "        if units <= 200:\n",
    "            bill = 50 * 0.05 + (units-150) * 0.60\n",
    "            print(\"The cost is Rs.\", bill)\n",
    "        else:\n",
    "            print(\"Wrong choice. Batti gul ho gai hai.\")\n",
    "\n",
    "    case \"H\":\n",
    "        if units > 200:\n",
    "            bill = 50 * 0.05 + 50 * 0.60 + (units-200) * 1.00\n",
    "            print(\"The cost is Rs.\", bill)\n",
    "        else:\n",
    "            print(\"Wrong choice. Batti gul ho gai hai.\")\n",
    "\n",
    "    case _:\n",
    "        print(\"Wrong choice. Batti gul ho gai hai.\")"
   ]
  },
  {
   "cell_type": "code",
   "execution_count": null,
   "metadata": {},
   "outputs": [],
   "source": []
  }
 ],
 "metadata": {
  "kernelspec": {
   "display_name": "base",
   "language": "python",
   "name": "python3"
  },
  "language_info": {
   "codemirror_mode": {
    "name": "ipython",
    "version": 3
   },
   "file_extension": ".py",
   "mimetype": "text/x-python",
   "name": "python",
   "nbconvert_exporter": "python",
   "pygments_lexer": "ipython3",
   "version": "3.10.9"
  },
  "orig_nbformat": 4
 },
 "nbformat": 4,
 "nbformat_minor": 2
}
