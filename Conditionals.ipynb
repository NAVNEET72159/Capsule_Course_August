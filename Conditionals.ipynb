{
 "cells": [
  {
   "cell_type": "markdown",
   "metadata": {},
   "source": [
    "# Conditionals\n",
    "# if, elif, else\n",
    " * Normal if-else\n",
    "    * Used when we have only two conditions\n",
    " * Ladder if-else\n",
    "    * Used when we have more than two conditions to check\n",
    " * Nested if-else\n",
    "    * Used when we have conditions after a condition\n",
    "\n",
    "# match case"
   ]
  },
  {
   "cell_type": "code",
   "execution_count": 7,
   "metadata": {},
   "outputs": [
    {
     "ename": "SyntaxError",
     "evalue": "invalid syntax (2962943274.py, line 16)",
     "output_type": "error",
     "traceback": [
      "\u001b[1;36m  Cell \u001b[1;32mIn[7], line 16\u001b[1;36m\u001b[0m\n\u001b[1;33m    else:\u001b[0m\n\u001b[1;37m    ^\u001b[0m\n\u001b[1;31mSyntaxError\u001b[0m\u001b[1;31m:\u001b[0m invalid syntax\n"
     ]
    }
   ],
   "source": [
    "# Nested if statements\n",
    "candidate_age = 19\n",
    "candidate_criminal_history = False\n",
    "Candidate_Gov_ID = True\n",
    "\n",
    "if candidate_age >= 18:\n",
    "    if candidate_criminal_history == True:\n",
    "        if Candidate_Gov_ID == True:\n",
    "            print(\"You are eligible to vote\")\n",
    "        else:\n",
    "            print(\"You are not eligible to vote\")\n",
    "    else:\n",
    "        print(\"You are not eligible to vote\")\n",
    "else:\n",
    "    print(\"You are not eligible to vote\")"
   ]
  },
  {
   "cell_type": "code",
   "execution_count": 4,
   "metadata": {},
   "outputs": [
    {
     "name": "stdout",
     "output_type": "stream",
     "text": [
      "Even\n"
     ]
    }
   ],
   "source": [
    "# Normal if_else statement\n",
    "# Write a program to check whether a number is even or odd.\n",
    "\n",
    "num = int(input(\"Enter a number: \"))\n",
    "if num % 2 == 0:\n",
    "    print(\"Even\")\n",
    "else:\n",
    "    print(\"Odd\")"
   ]
  },
  {
   "cell_type": "code",
   "execution_count": 5,
   "metadata": {},
   "outputs": [
    {
     "name": "stdout",
     "output_type": "stream",
     "text": [
      "You are eligible to vote\n"
     ]
    }
   ],
   "source": [
    "# Ladder if-elif-else\n",
    "# Write a program to find the largest of three numbers using\n",
    "\n",
    "a = int(input(\"Enter the first number: \"))\n",
    "b = int(input(\"Enter the second number: \"))\n",
    "c = int(input(\"Enter the third number: \"))\n",
    "\n",
    "if a > b and a > c:\n",
    "    print(\"The largest number is, \", a)\n",
    "elif b > a and b > c:\n",
    "    print(\"The largest number is, \", b)\n",
    "else:\n",
    "    print(\"The largest number is, \", c)"
   ]
  },
  {
   "cell_type": "markdown",
   "metadata": {},
   "source": [
    "# Write a program to calculate the grade of students in a class as mentioned below:\n",
    " * if the percentage is more than 90, assign grade A\n",
    " * if the percentage is more than 75, assign grade B\n",
    " * if the percentage is more than 65, assign grade C\n",
    " * if the percentage is more than 55, assign grade D\n",
    " * if the percentage is more than 45, assign grade E \n",
    " * if the percentage is less than 45, assign grade F"
   ]
  },
  {
   "cell_type": "code",
   "execution_count": null,
   "metadata": {},
   "outputs": [],
   "source": []
  }
 ],
 "metadata": {
  "kernelspec": {
   "display_name": "base",
   "language": "python",
   "name": "python3"
  },
  "language_info": {
   "codemirror_mode": {
    "name": "ipython",
    "version": 3
   },
   "file_extension": ".py",
   "mimetype": "text/x-python",
   "name": "python",
   "nbconvert_exporter": "python",
   "pygments_lexer": "ipython3",
   "version": "3.10.9"
  },
  "orig_nbformat": 4
 },
 "nbformat": 4,
 "nbformat_minor": 2
}
