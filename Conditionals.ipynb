{
 "cells": [
  {
   "cell_type": "markdown",
   "metadata": {},
   "source": [
    "# Conditionals\n",
    "# if, elif, else\n",
    " * Normal if-else\n",
    "    * Used when we have only two conditions\n",
    " * Ladder if-else\n",
    "    * Used when we have more than two conditions to check\n",
    " * Nested if-else\n",
    "    * Used when we have conditions after a condition\n",
    "\n",
    "# match case"
   ]
  },
  {
   "cell_type": "code",
   "execution_count": 7,
   "metadata": {},
   "outputs": [
    {
     "ename": "SyntaxError",
     "evalue": "invalid syntax (2962943274.py, line 16)",
     "output_type": "error",
     "traceback": [
      "\u001b[1;36m  Cell \u001b[1;32mIn[7], line 16\u001b[1;36m\u001b[0m\n\u001b[1;33m    else:\u001b[0m\n\u001b[1;37m    ^\u001b[0m\n\u001b[1;31mSyntaxError\u001b[0m\u001b[1;31m:\u001b[0m invalid syntax\n"
     ]
    }
   ],
   "source": [
    "# Nested if statements\n",
    "candidate_age = 19\n",
    "candidate_criminal_history = False\n",
    "Candidate_Gov_ID = True\n",
    "\n",
    "if candidate_age >= 18:\n",
    "    if candidate_criminal_history == True:\n",
    "        if Candidate_Gov_ID == True:\n",
    "            print(\"You are eligible to vote\")\n",
    "        else:\n",
    "            print(\"You are not eligible to vote\")\n",
    "    else:\n",
    "        print(\"You are not eligible to vote\")\n",
    "else:\n",
    "    print(\"You are not eligible to vote\")"
   ]
  },
  {
   "cell_type": "code",
   "execution_count": 4,
   "metadata": {},
   "outputs": [
    {
     "name": "stdout",
     "output_type": "stream",
     "text": [
      "Even\n"
     ]
    }
   ],
   "source": [
    "# Normal if_else statement\n",
    "# Write a program to check whether a number is even or odd.\n",
    "\n",
    "num = int(input(\"Enter a number: \"))\n",
    "if num % 2 == 0:\n",
    "    print(\"Even\")\n",
    "else:\n",
    "    print(\"Odd\")"
   ]
  },
  {
   "cell_type": "code",
   "execution_count": 5,
   "metadata": {},
   "outputs": [
    {
     "name": "stdout",
     "output_type": "stream",
     "text": [
      "You are eligible to vote\n"
     ]
    }
   ],
   "source": [
    "# Ladder if-elif-else\n",
    "# Write a program to find the largest of three numbers using\n",
    "\n",
    "a = int(input(\"Enter the first number: \"))\n",
    "b = int(input(\"Enter the second number: \"))\n",
    "c = int(input(\"Enter the third number: \"))\n",
    "\n",
    "if a > b and a > c:\n",
    "    print(\"The largest number is, \", a)\n",
    "elif b > a and b > c:\n",
    "    print(\"The largest number is, \", b)\n",
    "else:\n",
    "    print(\"The largest number is, \", c)"
   ]
  },
  {
   "cell_type": "markdown",
   "metadata": {},
   "source": [
    "# Write a program to calculate the grade of students in a class as mentioned below:\n",
    " * if the percentage is more than 90, assign grade A\n",
    " * if the percentage is more than 75, assign grade B\n",
    " * if the percentage is more than 65, assign grade C\n",
    " * if the percentage is more than 55, assign grade D\n",
    " * if the percentage is more than 45, assign grade E \n",
    " * if the percentage is less than 45, assign grade F"
   ]
  },
  {
   "cell_type": "code",
   "execution_count": 9,
   "metadata": {},
   "outputs": [
    {
     "name": "stdout",
     "output_type": "stream",
     "text": [
      "Grade: F\n"
     ]
    }
   ],
   "source": [
    "percentage = int(input(\"Enter your percentage: \"))\n",
    "if percentage >= 90:\n",
    "    print(\"Grade: A\")\n",
    "elif percentage >= 75:\n",
    "    print(\"Grade: B\")\n",
    "elif percentage >= 65:\n",
    "    print(\"Grade: C\")\n",
    "elif percentage >= 55:\n",
    "    print(\"Grade: D\")\n",
    "elif percentage >= 45:\n",
    "    print(\"Grade: E\")\n",
    "else:\n",
    "    print(\"Grade: F\")"
   ]
  },
  {
   "cell_type": "markdown",
   "metadata": {},
   "source": [
    "# Write a program to check whether a number is a positive or negative"
   ]
  },
  {
   "cell_type": "code",
   "execution_count": 12,
   "metadata": {},
   "outputs": [
    {
     "name": "stdout",
     "output_type": "stream",
     "text": [
      "Positive number\n"
     ]
    }
   ],
   "source": [
    "num = int(input(\"Enter a number: \"))\n",
    "\n",
    "if num >= 0:\n",
    "    print(\"Positive number\")\n",
    "else: \n",
    "    print(\"Negative number\")"
   ]
  },
  {
   "cell_type": "markdown",
   "metadata": {},
   "source": [
    "# Write a program to calculate the electricity bill as under:\n",
    "* First 100 units -> No charges \n",
    "* Next 50 units -> 0.50 @units\n",
    "* Next 50 units -> 0.60 @units\n",
    "* Greater 200 units -> 1.00 @units"
   ]
  },
  {
   "cell_type": "code",
   "execution_count": 1,
   "metadata": {},
   "outputs": [
    {
     "name": "stdout",
     "output_type": "stream",
     "text": [
      "Bill amount: Rs. 59.0\n"
     ]
    }
   ],
   "source": [
    "units = float(input(\"Enter the units consumed: \"))\n",
    "bill = 0\n",
    "if units <= 100:\n",
    "    print(\"Bill amount: Rs. 0\")\n",
    "elif units <= 150:\n",
    "    bill = (units - 100) * 0.50\n",
    "    print(\"Bill amount: Rs.\", bill)\n",
    "elif units <= 200:\n",
    "    bills = 50 * 0.50 + (units - 150) * 0.60\n",
    "    print(\"Bill amount: Rs.\", bill)\n",
    "else:\n",
    "    bill = 50 * 0.50 + 50 * 0.60 + (units - 200) * 1.00\n",
    "    print(\"Bill amount: Rs.\", bill)"
   ]
  },
  {
   "cell_type": "markdown",
   "metadata": {},
   "source": [
    "Units = 165\n",
    "\n",
    "100 * 0 + 50 * 0.50 + 15 * 0.60\n",
    "\n",
    "Units = 204\n",
    "\n",
    "100 * 0 + 50 * 0.50 + 50 * 0.60 + 4 * 1.0"
   ]
  },
  {
   "cell_type": "markdown",
   "metadata": {},
   "source": [
    "# Write a program to calculate the root of a quadratic equation.\n",
    "* For example : 2x^2 + 3x + 4 = 0\n",
    "a = 2\n",
    "b = 3 \n",
    "c = 4\n",
    "\n",
    "d = b^2 - 4*a*c\n",
    "x = (-b +-((d)^0.5))/(2*a)"
   ]
  },
  {
   "cell_type": "code",
   "execution_count": 4,
   "metadata": {},
   "outputs": [
    {
     "name": "stdout",
     "output_type": "stream",
     "text": [
      "Roots are real and distinct\n",
      "Roots are:  -3.0 -6.0\n"
     ]
    }
   ],
   "source": [
    "a = int(input(\"Enter first value of quadratic equation: \"))\n",
    "b = int(input(\"Enter second value of quadratic equation: \"))\n",
    "c = int(input(\"Enter third value of quadratic equation: \"))\n",
    "\n",
    "d = b**2 - 4*a*c\n",
    "\n",
    "if d == 0:\n",
    "    print(\"Roots are real and equal\")\n",
    "    x = -b / (2*a)\n",
    "    print(\"Roots are: \", x, x)\n",
    "\n",
    "elif d > 0:\n",
    "    print(\"Roots are real and distinct\")\n",
    "    x1 = (-b + d**0.5) / (2*a)\n",
    "    x2 = (-b - d**0.5) / (2*a)\n",
    "    print(\"Roots are: \", x1, x2)\n",
    "\n",
    "else:\n",
    "    print(\"Roots are complex and imaginary\")"
   ]
  },
  {
   "cell_type": "markdown",
   "metadata": {},
   "source": [
    "# Write a program to check whether a triangle is equilateral, isosceles or scalene triangle."
   ]
  },
  {
   "cell_type": "code",
   "execution_count": 8,
   "metadata": {},
   "outputs": [
    {
     "name": "stdout",
     "output_type": "stream",
     "text": [
      "This is an isosceles triangle.\n"
     ]
    }
   ],
   "source": [
    "# Equilateral Triangle = All sides are equal\n",
    "# Isosceles Triangle = Two sides are equal\n",
    "# Scalene Triangle = No sides are equal\n",
    "\n",
    "# Input the sides of the triangle\n",
    "\n",
    "side1 = int(input(\"Enter the length of side 1: \"))\n",
    "side2 = int(input(\"Enter the length of side 2: \"))\n",
    "side3 = int(input(\"Enter the length of side 3: \"))\n",
    "\n",
    "if side1 == side2 and side2 == side3:\n",
    "    print(\"This is an equilateral triangle.\")\n",
    "\n",
    "elif side1 == side2 or side1 == side3 or side2 == side3:\n",
    "    print(\"This is an isosceles triangle.\")\n",
    "\n",
    "else:\n",
    "    print(\"This is a scalene triangle.\")"
   ]
  },
  {
   "cell_type": "markdown",
   "metadata": {},
   "source": [
    "# Write a program to check whether a English character is Vowel or Consonant"
   ]
  },
  {
   "cell_type": "code",
   "execution_count": 9,
   "metadata": {},
   "outputs": [
    {
     "name": "stdout",
     "output_type": "stream",
     "text": [
      "The character is a vowel.\n"
     ]
    }
   ],
   "source": [
    "character = input(\"Enter a character: \")\n",
    "if character == \"a\" or character == \"e\" or character == \"i\" or character == \"o\" or character == \"u\" or character == \"A\" or character == \"E\" or character == \"I\" or character == \"O\" or character == \"U\":\n",
    "    print(\"The character is a vowel.\")\n",
    "\n",
    "else:\n",
    "    print(\"The character is a consonant.\")"
   ]
  },
  {
   "cell_type": "code",
   "execution_count": null,
   "metadata": {},
   "outputs": [],
   "source": []
  }
 ],
 "metadata": {
  "kernelspec": {
   "display_name": "base",
   "language": "python",
   "name": "python3"
  },
  "language_info": {
   "codemirror_mode": {
    "name": "ipython",
    "version": 3
   },
   "file_extension": ".py",
   "mimetype": "text/x-python",
   "name": "python",
   "nbconvert_exporter": "python",
   "pygments_lexer": "ipython3",
   "version": "3.10.9"
  },
  "orig_nbformat": 4
 },
 "nbformat": 4,
 "nbformat_minor": 2
}
